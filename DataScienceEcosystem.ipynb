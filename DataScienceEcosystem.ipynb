{
 "cells": [
  {
   "cell_type": "markdown",
   "id": "e7fd61c2-d33d-436e-9b20-361621d5bc41",
   "metadata": {},
   "source": [
    "# Data Science Tools and Ecosystem #"
   ]
  },
  {
   "cell_type": "markdown",
   "id": "0887c254-f979-4df3-92e6-02de3bea5f03",
   "metadata": {},
   "source": [
    "## Author\n",
    "Maria Ortiz Llamas"
   ]
  },
  {
   "cell_type": "markdown",
   "id": "499c1d2b-2726-4016-9bf1-cd87004fcdd5",
   "metadata": {},
   "source": [
    "## In this notebook, Data Science Tools and Ecosystem are summarized."
   ]
  },
  {
   "cell_type": "markdown",
   "id": "de58d821-9437-465c-8a4a-fe6cf5ae5bfd",
   "metadata": {
    "tags": []
   },
   "source": [
    "**Objectives:**\n",
    "- languages used by data scientists\n",
    "- libraries used by data scientists\n",
    "- arithmetic in Python"
   ]
  },
  {
   "cell_type": "markdown",
   "id": "1a24550e-2fd2-4867-b4f6-0d45cdf7d38d",
   "metadata": {
    "jp-MarkdownHeadingCollapsed": true,
    "tags": []
   },
   "source": [
    "### Some of the popular languages that Data Scientists use are:\n",
    "1. SQL\n",
    "2. R\n",
    "3. PYTHON\n",
    "4. JULIA"
   ]
  },
  {
   "cell_type": "markdown",
   "id": "9315e55f-b198-4182-85fc-6be06279c70c",
   "metadata": {
    "jp-MarkdownHeadingCollapsed": true,
    "tags": []
   },
   "source": [
    "### Some of the commonly used libraries used by Data Scientists include:\n",
    "1. Pandas\n",
    "2. Numpy\n",
    "3. Matplotlib\n",
    "4. Seaborn\n",
    "5. Keras"
   ]
  },
  {
   "cell_type": "markdown",
   "id": "6c04bdee-2f13-47dd-878e-b5d21d2faee7",
   "metadata": {},
   "source": [
    "|Data Science Tools|\n",
    "|------------------|\n",
    "|MySQL|\n",
    "|PostgreSQL|\n",
    "|Apache CouchDB|"
   ]
  },
  {
   "cell_type": "markdown",
   "id": "a0021897-cfd4-4e93-8856-8862e42b7ab4",
   "metadata": {},
   "source": [
    "### Below are a few examples of evaluating arithmetic expressions in Python"
   ]
  },
  {
   "cell_type": "code",
   "execution_count": 2,
   "id": "422f49df-11c6-4a02-a456-cc0630ff0554",
   "metadata": {},
   "outputs": [
    {
     "data": {
      "text/plain": [
       "26"
      ]
     },
     "execution_count": 2,
     "metadata": {},
     "output_type": "execute_result"
    }
   ],
   "source": [
    "1+25"
   ]
  },
  {
   "cell_type": "code",
   "execution_count": 3,
   "id": "8d94e371-37a2-4b4b-ad73-7c9ef257f472",
   "metadata": {},
   "outputs": [
    {
     "data": {
      "text/plain": [
       "360"
      ]
     },
     "execution_count": 3,
     "metadata": {},
     "output_type": "execute_result"
    }
   ],
   "source": [
    "15*24"
   ]
  },
  {
   "cell_type": "code",
   "execution_count": 6,
   "id": "55d19b6c-c4c4-4a92-9b0f-c5867d910c8e",
   "metadata": {},
   "outputs": [],
   "source": [
    "# This a simple arithmetic expression to mutiply then add integers #"
   ]
  },
  {
   "cell_type": "code",
   "execution_count": 5,
   "id": "444f6498-fb05-4f7f-aa86-15fca3a1d405",
   "metadata": {},
   "outputs": [
    {
     "data": {
      "text/plain": [
       "17"
      ]
     },
     "execution_count": 5,
     "metadata": {},
     "output_type": "execute_result"
    }
   ],
   "source": [
    "(3*4)+5"
   ]
  },
  {
   "cell_type": "code",
   "execution_count": 8,
   "id": "58443346-7488-487b-843a-88209e30e1b0",
   "metadata": {},
   "outputs": [
    {
     "data": {
      "text/plain": [
       "3.3333333333333335"
      ]
     },
     "execution_count": 8,
     "metadata": {},
     "output_type": "execute_result"
    }
   ],
   "source": [
    "# This will convert 200 minutes to hours by diving by 60 \n",
    "200/60"
   ]
  },
  {
   "cell_type": "code",
   "execution_count": null,
   "id": "344854ab-01c3-4e33-bbb9-000c3027bfe2",
   "metadata": {},
   "outputs": [],
   "source": []
  }
 ],
 "metadata": {
  "kernelspec": {
   "display_name": "Python",
   "language": "python",
   "name": "conda-env-python-py"
  },
  "language_info": {
   "codemirror_mode": {
    "name": "ipython",
    "version": 3
   },
   "file_extension": ".py",
   "mimetype": "text/x-python",
   "name": "python",
   "nbconvert_exporter": "python",
   "pygments_lexer": "ipython3",
   "version": "3.7.12"
  }
 },
 "nbformat": 4,
 "nbformat_minor": 5
}
